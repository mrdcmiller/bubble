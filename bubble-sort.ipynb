{
 "cells": [
  {
   "cell_type": "code",
   "execution_count": 34,
   "metadata": {},
   "outputs": [
    {
     "name": "stdout",
     "output_type": "stream",
     "text": [
      "intitial list\n",
      " [105, 45, 1000, 65, 86, 2, 10, 100, 84, 900]\n",
      "\n",
      "\n",
      "[45, 105, 1000, 65, 86, 2, 10, 100, 84, 900]\n",
      "[45, 105, 65, 1000, 86, 2, 10, 100, 84, 900]\n",
      "[45, 105, 65, 86, 1000, 2, 10, 100, 84, 900]\n",
      "[45, 105, 65, 86, 2, 1000, 10, 100, 84, 900]\n",
      "[45, 105, 65, 86, 2, 10, 1000, 100, 84, 900]\n",
      "[45, 105, 65, 86, 2, 10, 100, 1000, 84, 900]\n",
      "[45, 105, 65, 86, 2, 10, 100, 84, 1000, 900]\n",
      "[45, 105, 65, 86, 2, 10, 100, 84, 900, 1000]\n",
      "[45, 65, 105, 86, 2, 10, 100, 84, 900, 1000]\n",
      "[45, 65, 86, 105, 2, 10, 100, 84, 900, 1000]\n",
      "[45, 65, 86, 2, 105, 10, 100, 84, 900, 1000]\n",
      "[45, 65, 86, 2, 10, 105, 100, 84, 900, 1000]\n",
      "[45, 65, 86, 2, 10, 100, 105, 84, 900, 1000]\n",
      "[45, 65, 86, 2, 10, 100, 84, 105, 900, 1000]\n",
      "[45, 65, 2, 86, 10, 100, 84, 105, 900, 1000]\n",
      "[45, 65, 2, 10, 86, 100, 84, 105, 900, 1000]\n",
      "[45, 65, 2, 10, 86, 84, 100, 105, 900, 1000]\n",
      "[45, 2, 65, 10, 86, 84, 100, 105, 900, 1000]\n",
      "[45, 2, 10, 65, 86, 84, 100, 105, 900, 1000]\n",
      "[45, 2, 10, 65, 84, 86, 100, 105, 900, 1000]\n",
      "[2, 45, 10, 65, 84, 86, 100, 105, 900, 1000]\n",
      "[2, 10, 45, 65, 84, 86, 100, 105, 900, 1000]\n"
     ]
    }
   ],
   "source": [
    "bubble_list = [105,45,1000,65,86,2,10,100,84,900]\n",
    "\n",
    "print(\"intitial list\\n\",bubble_list)\n",
    "print(\"\\n\")\n",
    "\n",
    "for value in range(0,len(bubble_list)-1,1):\n",
    "    for x in range(0,len(bubble_list)-1,1):\n",
    "        if bubble_list[x] > bubble_list[x+1]:\n",
    "            bubble_list[x+1],bubble_list[x] = bubble_list[x],bubble_list[x+1]\n",
    "            print(bubble_list)        "
   ]
  },
  {
   "cell_type": "code",
   "execution_count": null,
   "metadata": {},
   "outputs": [],
   "source": []
  },
  {
   "cell_type": "code",
   "execution_count": null,
   "metadata": {},
   "outputs": [],
   "source": []
  },
  {
   "cell_type": "code",
   "execution_count": null,
   "metadata": {},
   "outputs": [],
   "source": []
  }
 ],
 "metadata": {
  "kernelspec": {
   "display_name": "Python 3",
   "language": "python",
   "name": "python3"
  },
  "language_info": {
   "codemirror_mode": {
    "name": "ipython",
    "version": 3
   },
   "file_extension": ".py",
   "mimetype": "text/x-python",
   "name": "python",
   "nbconvert_exporter": "python",
   "pygments_lexer": "ipython3",
   "version": "3.6.5"
  }
 },
 "nbformat": 4,
 "nbformat_minor": 2
}
